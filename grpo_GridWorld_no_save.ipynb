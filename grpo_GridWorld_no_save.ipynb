{
  "nbformat": 4,
  "nbformat_minor": 0,
  "metadata": {
    "colab": {
      "provenance": [],
      "gpuType": "T4"
    },
    "kernelspec": {
      "name": "python3",
      "display_name": "Python 3"
    },
    "language_info": {
      "name": "python"
    },
    "accelerator": "GPU"
  },
  "cells": [
    {
      "cell_type": "markdown",
      "source": [
        "# Raw implementation without saving Maximum Reward model\n",
        "\n",
        "\n",
        "[link text](https://)"
      ],
      "metadata": {
        "id": "ItfJngZS_gOT"
      }
    },
    {
      "cell_type": "markdown",
      "source": [],
      "metadata": {
        "id": "-kempX6E_0gv"
      }
    },
    {
      "cell_type": "code",
      "execution_count": 1,
      "metadata": {
        "id": "9Sn0GWb34b7W"
      },
      "outputs": [],
      "source": [
        "import torch\n",
        "import torch.nn as nn\n",
        "import torch.optim as optim\n",
        "import numpy as np\n",
        "import random\n",
        "import matplotlib.pyplot as plt\n",
        "from tqdm import tqdm"
      ]
    },
    {
      "cell_type": "code",
      "source": [
        "# Check for GPU availability\n",
        "device = torch.device(\"cuda\" if torch.cuda.is_available() else \"cpu\")\n",
        "print(f\"Using device: {device}\")\n"
      ],
      "metadata": {
        "colab": {
          "base_uri": "https://localhost:8080/",
          "height": 0
        },
        "id": "lDs9gr224iu8",
        "outputId": "7d4db06e-9f39-4d95-90e7-b8b8e4c5f69d"
      },
      "execution_count": 2,
      "outputs": [
        {
          "output_type": "stream",
          "name": "stdout",
          "text": [
            "Using device: cuda\n"
          ]
        }
      ]
    },
    {
      "cell_type": "code",
      "source": [
        "class GridWorldEnv:\n",
        "    def __init__(self, size=5):\n",
        "        self.size = size\n",
        "        self.reset()\n",
        "\n",
        "    def reset(self):\n",
        "        # Initialize agent position randomly\n",
        "        self.agent_pos = [random.randint(0, self.size-1), random.randint(0, self.size-1)]\n",
        "        # Set goal position randomly but ensure it's different from agent position\n",
        "        self.goal_pos = self.agent_pos.copy()\n",
        "        while self.goal_pos == self.agent_pos:\n",
        "            self.goal_pos = [random.randint(0, self.size-1), random.randint(0, self.size-1)]\n",
        "        return self._get_state()\n",
        "\n",
        "    def step(self, action):\n",
        "        # Actions: 0: up, 1: right, 2: down, 3: left\n",
        "        if action == 0 and self.agent_pos[0] > 0:  # Up\n",
        "            self.agent_pos[0] -= 1\n",
        "        elif action == 1 and self.agent_pos[1] < self.size - 1:  # Right\n",
        "            self.agent_pos[1] += 1\n",
        "        elif action == 2 and self.agent_pos[0] < self.size - 1:  # Down\n",
        "            self.agent_pos[0] += 1\n",
        "        elif action == 3 and self.agent_pos[1] > 0:  # Left\n",
        "            self.agent_pos[1] -= 1\n",
        "\n",
        "        # Check if goal is reached\n",
        "        done = (self.agent_pos == self.goal_pos)\n",
        "\n",
        "        # Calculate reward: -0.1 per step, +1 for reaching goal\n",
        "        reward = 1.0 if done else -0.1\n",
        "\n",
        "        return self._get_state(), reward, done\n",
        "\n",
        "    def _get_state(self):\n",
        "        # State is represented as [agent_x, agent_y, goal_x, goal_y]\n",
        "        return np.array([self.agent_pos[0], self.agent_pos[1],\n",
        "                         self.goal_pos[0], self.goal_pos[1]])\n",
        "\n",
        "    def render(self):\n",
        "        grid = np.zeros((self.size, self.size), dtype=str)\n",
        "        grid.fill('.')\n",
        "        grid[self.agent_pos[0], self.agent_pos[1]] = 'A'\n",
        "        grid[self.goal_pos[0], self.goal_pos[1]] = 'G'\n",
        "\n",
        "        # If agent and goal are in the same position\n",
        "        if self.agent_pos == self.goal_pos:\n",
        "            grid[self.agent_pos[0], self.agent_pos[1]] = 'X'\n",
        "\n",
        "        for row in grid:\n",
        "            print(' '.join(row))\n",
        "        print()\n"
      ],
      "metadata": {
        "id": "8jWWXuuz4lj4"
      },
      "execution_count": 3,
      "outputs": []
    },
    {
      "cell_type": "code",
      "source": [
        "\n",
        "# Define the policy network\n",
        "class PolicyNetwork(nn.Module):\n",
        "    def __init__(self, input_size, hidden_size, output_size):\n",
        "        super(PolicyNetwork, self).__init__()\n",
        "        self.network = nn.Sequential(\n",
        "            nn.Linear(input_size, hidden_size),\n",
        "            nn.ReLU(),\n",
        "            nn.Linear(hidden_size, hidden_size),\n",
        "            nn.ReLU(),\n",
        "            nn.Linear(hidden_size, output_size),\n",
        "            nn.Softmax(dim=-1)\n",
        "        )\n",
        "\n",
        "    def forward(self, x):\n",
        "        return self.network(x)\n"
      ],
      "metadata": {
        "id": "lJA7_ZlF4yAh"
      },
      "execution_count": 4,
      "outputs": []
    },
    {
      "cell_type": "code",
      "source": [
        "# Define the value network\n",
        "class ValueNetwork(nn.Module):\n",
        "    def __init__(self, input_size, hidden_size):\n",
        "        super(ValueNetwork, self).__init__()\n",
        "        self.network = nn.Sequential(\n",
        "            nn.Linear(input_size, hidden_size),\n",
        "            nn.ReLU(),\n",
        "            nn.Linear(hidden_size, hidden_size),\n",
        "            nn.ReLU(),\n",
        "            nn.Linear(hidden_size, 1)\n",
        "        )\n",
        "\n",
        "    def forward(self, x):\n",
        "        return self.network(x)\n"
      ],
      "metadata": {
        "id": "8zrz0AvS45Rq"
      },
      "execution_count": 5,
      "outputs": []
    },
    {
      "cell_type": "code",
      "source": [
        "def generate_trajectories(env, policy_net, num_episodes=10, max_steps=100):\n",
        "    trajectories = []\n",
        "\n",
        "    for _ in range(num_episodes):\n",
        "        states, actions, rewards, log_probs = [], [], [], []\n",
        "        state = env.reset()\n",
        "        done = False\n",
        "        step_count = 0\n",
        "\n",
        "        while not done and step_count < max_steps:\n",
        "            state_tensor = torch.FloatTensor(state).to(device)\n",
        "            action_probs = policy_net(state_tensor)\n",
        "\n",
        "            # Sample action from the distribution\n",
        "            action_distribution = torch.distributions.Categorical(action_probs)\n",
        "            action = action_distribution.sample()\n",
        "            log_prob = action_distribution.log_prob(action)\n",
        "\n",
        "            next_state, reward, done = env.step(action.item())\n",
        "\n",
        "            states.append(state)\n",
        "            actions.append(action.item())\n",
        "            rewards.append(reward)\n",
        "            log_probs.append(log_prob.item())\n",
        "\n",
        "            state = next_state\n",
        "            step_count += 1\n",
        "\n",
        "        # Calculate returns\n",
        "        returns = []\n",
        "        G = 0\n",
        "        for r in reversed(rewards):\n",
        "            G = r + 0.99 * G  # 0.99 is the discount factor\n",
        "            returns.insert(0, G)\n",
        "\n",
        "        trajectories.append({\n",
        "            'states': np.array(states),\n",
        "            'actions': np.array(actions),\n",
        "            'rewards': np.array(rewards),\n",
        "            'returns': np.array(returns),\n",
        "            'log_probs': np.array(log_probs)\n",
        "        })\n",
        "\n",
        "    return trajectories"
      ],
      "metadata": {
        "id": "dxuZLxlL48nS"
      },
      "execution_count": 6,
      "outputs": []
    },
    {
      "cell_type": "code",
      "source": [
        "# Function to generate reference and candidate trajectories for preference learning\n",
        "def generate_preference_pairs(env, policy_net, value_net, num_pairs=5, max_steps=100):\n",
        "    reference_trajectories = generate_trajectories(env, policy_net, num_episodes=num_pairs, max_steps=max_steps)\n",
        "    candidate_trajectories = generate_trajectories(env, policy_net, num_episodes=num_pairs, max_steps=max_steps)\n",
        "\n",
        "    pairs = []\n",
        "    for ref_traj, cand_traj in zip(reference_trajectories, candidate_trajectories):\n",
        "        # Use total return as a proxy for preference\n",
        "        ref_return = np.sum(ref_traj['rewards'])\n",
        "        cand_return = np.sum(cand_traj['rewards'])\n",
        "\n",
        "        # Determine which trajectory is preferred based on total return\n",
        "        if ref_return > cand_return:\n",
        "            preferred = ref_traj\n",
        "            non_preferred = cand_traj\n",
        "        else:\n",
        "            preferred = cand_traj\n",
        "            non_preferred = ref_traj\n",
        "\n",
        "        pairs.append((preferred, non_preferred))\n",
        "\n",
        "    return pairs\n"
      ],
      "metadata": {
        "id": "nfTI6HR95A-O"
      },
      "execution_count": 7,
      "outputs": []
    },
    {
      "cell_type": "code",
      "source": [
        "# training function with GRPO =>\n",
        "def train_grpo(env, policy_net, value_net, optimizer_policy, optimizer_value,\n",
        "               num_iterations=100, batch_size=4, max_steps=100):\n",
        "\n",
        "    returns_history = []\n",
        "    loss_history = []\n",
        "\n",
        "    for iteration in tqdm(range(num_iterations)):\n",
        "        # Generate preference pairs\n",
        "        preference_pairs = generate_preference_pairs(env, policy_net, value_net,\n",
        "                                                    num_pairs=batch_size, max_steps=max_steps)\n",
        "\n",
        "        # Train on preference pairs\n",
        "        policy_loss = 0\n",
        "        value_loss = 0\n",
        "\n",
        "        for preferred, non_preferred in preference_pairs:\n",
        "            # Value loss\n",
        "            preferred_states = torch.FloatTensor(preferred['states']).to(device)\n",
        "            preferred_returns = torch.FloatTensor(preferred['returns']).unsqueeze(1).to(device)\n",
        "            predicted_values = value_net(preferred_states)\n",
        "            batch_value_loss = nn.MSELoss()(predicted_values, preferred_returns)\n",
        "            value_loss += batch_value_loss\n",
        "\n",
        "            # Policy loss - GRPO approach\n",
        "            # Calculate advantage using the value network\n",
        "            advantages = preferred_returns - predicted_values.detach()\n",
        "\n",
        "            # Get log probabilities of actions taken\n",
        "            preferred_actions = torch.LongTensor(preferred['actions']).to(device)\n",
        "            action_probs = policy_net(preferred_states)\n",
        "            dist = torch.distributions.Categorical(action_probs)\n",
        "            log_probs = dist.log_prob(preferred_actions)\n",
        "\n",
        "            # Calculate importance weights from old log probs\n",
        "            old_log_probs = torch.FloatTensor(preferred['log_probs']).to(device)\n",
        "            ratios = torch.exp(log_probs - old_log_probs)\n",
        "\n",
        "            # Clipped PPO loss\n",
        "            eps = 0.2  # PPO clipping parameter\n",
        "            clipped_ratios = torch.clamp(ratios, 1-eps, 1+eps)\n",
        "            batch_policy_loss = -torch.min(ratios * advantages, clipped_ratios * advantages).mean()\n",
        "            policy_loss += batch_policy_loss\n",
        "\n",
        "        # Average losses\n",
        "        policy_loss /= len(preference_pairs)\n",
        "        value_loss /= len(preference_pairs)\n",
        "\n",
        "        # Update policy network\n",
        "        optimizer_policy.zero_grad()\n",
        "        policy_loss.backward()\n",
        "        optimizer_policy.step()\n",
        "\n",
        "        # Update value network\n",
        "        optimizer_value.zero_grad()\n",
        "        value_loss.backward()\n",
        "        optimizer_value.step()\n",
        "\n",
        "        # Evaluate performance\n",
        "        if iteration % 100 == 0:\n",
        "            eval_returns = []\n",
        "            for _ in range(5):  # Evaluate on 5 episodes\n",
        "                state = env.reset()\n",
        "                total_reward = 0\n",
        "                done = False\n",
        "                step_count = 0\n",
        "\n",
        "                while not done and step_count < max_steps:\n",
        "                    state_tensor = torch.FloatTensor(state).to(device)\n",
        "                    action_probs = policy_net(state_tensor)\n",
        "                    action = torch.argmax(action_probs).item()\n",
        "\n",
        "                    next_state, reward, done = env.step(action)\n",
        "                    total_reward += reward\n",
        "                    state = next_state\n",
        "                    step_count += 1\n",
        "\n",
        "                eval_returns.append(total_reward)\n",
        "\n",
        "            avg_return = np.mean(eval_returns)\n",
        "            returns_history.append(avg_return)\n",
        "            loss_history.append((policy_loss.item(), value_loss.item()))\n",
        "\n",
        "            print(f\"Iteration {iteration}, Avg Return: {avg_return:.2f}, \" +\n",
        "                  f\"Policy Loss: {policy_loss.item():.4f}, Value Loss: {value_loss.item():.4f}\")\n",
        "\n",
        "    return returns_history, loss_history\n"
      ],
      "metadata": {
        "id": "KwSPH-fw5J36"
      },
      "execution_count": 23,
      "outputs": []
    },
    {
      "cell_type": "code",
      "source": [
        "# Create environment and networks\n",
        "env = GridWorldEnv(size=5)\n",
        "\n",
        "# State size: agent_x, agent_y, goal_x, goal_y\n",
        "state_size = 4\n",
        "hidden_size = 64\n",
        "action_size = 4  # up, right, down, left\n",
        "\n",
        "policy_net = PolicyNetwork(state_size, hidden_size, action_size).to(device)\n",
        "value_net = ValueNetwork(state_size, hidden_size).to(device)\n",
        "\n",
        "optimizer_policy = optim.Adam(policy_net.parameters(), lr=0.001)\n",
        "optimizer_value = optim.Adam(value_net.parameters(), lr=0.001)\n",
        "\n",
        "# Train the agent\n",
        "print(\"Starting GRPO training...\")\n",
        "returns_history, loss_history = train_grpo(\n",
        "    env, policy_net, value_net, optimizer_policy, optimizer_value,\n",
        "    num_iterations=1000, batch_size=4, max_steps=20\n",
        ")"
      ],
      "metadata": {
        "colab": {
          "base_uri": "https://localhost:8080/"
        },
        "id": "-Bup3-Pl5MjV",
        "outputId": "ea39a928-bcfb-4bb6-bb99-eddb9150315b"
      },
      "execution_count": 32,
      "outputs": [
        {
          "output_type": "stream",
          "name": "stdout",
          "text": [
            "Starting GRPO training...\n"
          ]
        },
        {
          "output_type": "stream",
          "name": "stderr",
          "text": [
            "  0%|          | 2/1000 [00:00<02:57,  5.61it/s]"
          ]
        },
        {
          "output_type": "stream",
          "name": "stdout",
          "text": [
            "Iteration 0, Avg Return: -2.00, Policy Loss: 0.3999, Value Loss: 0.9773\n"
          ]
        },
        {
          "output_type": "stream",
          "name": "stderr",
          "text": [
            " 10%|█         | 102/1000 [00:14<01:48,  8.25it/s]"
          ]
        },
        {
          "output_type": "stream",
          "name": "stdout",
          "text": [
            "Iteration 100, Avg Return: -0.40, Policy Loss: -0.2327, Value Loss: 0.1672\n"
          ]
        },
        {
          "output_type": "stream",
          "name": "stderr",
          "text": [
            " 20%|██        | 202/1000 [00:24<01:10, 11.29it/s]"
          ]
        },
        {
          "output_type": "stream",
          "name": "stdout",
          "text": [
            "Iteration 200, Avg Return: 0.04, Policy Loss: -0.0604, Value Loss: 0.1244\n"
          ]
        },
        {
          "output_type": "stream",
          "name": "stderr",
          "text": [
            " 30%|███       | 304/1000 [00:32<00:40, 17.33it/s]"
          ]
        },
        {
          "output_type": "stream",
          "name": "stdout",
          "text": [
            "Iteration 300, Avg Return: 0.82, Policy Loss: 0.0087, Value Loss: 0.0203\n"
          ]
        },
        {
          "output_type": "stream",
          "name": "stderr",
          "text": [
            " 40%|████      | 403/1000 [00:38<00:32, 18.25it/s]"
          ]
        },
        {
          "output_type": "stream",
          "name": "stdout",
          "text": [
            "Iteration 400, Avg Return: 0.82, Policy Loss: -0.0466, Value Loss: 0.0046\n"
          ]
        },
        {
          "output_type": "stream",
          "name": "stderr",
          "text": [
            " 50%|█████     | 503/1000 [00:43<00:24, 20.31it/s]"
          ]
        },
        {
          "output_type": "stream",
          "name": "stdout",
          "text": [
            "Iteration 500, Avg Return: 0.82, Policy Loss: 0.0137, Value Loss: 0.0030\n"
          ]
        },
        {
          "output_type": "stream",
          "name": "stderr",
          "text": [
            " 60%|██████    | 605/1000 [00:47<00:17, 22.18it/s]"
          ]
        },
        {
          "output_type": "stream",
          "name": "stdout",
          "text": [
            "Iteration 600, Avg Return: 0.90, Policy Loss: 0.0161, Value Loss: 0.0050\n"
          ]
        },
        {
          "output_type": "stream",
          "name": "stderr",
          "text": [
            " 70%|███████   | 703/1000 [00:52<00:17, 17.38it/s]"
          ]
        },
        {
          "output_type": "stream",
          "name": "stdout",
          "text": [
            "Iteration 700, Avg Return: 0.82, Policy Loss: -0.0117, Value Loss: 0.0014\n"
          ]
        },
        {
          "output_type": "stream",
          "name": "stderr",
          "text": [
            " 81%|████████  | 806/1000 [00:57<00:07, 24.52it/s]"
          ]
        },
        {
          "output_type": "stream",
          "name": "stdout",
          "text": [
            "Iteration 800, Avg Return: 0.60, Policy Loss: -0.0074, Value Loss: 0.0016\n"
          ]
        },
        {
          "output_type": "stream",
          "name": "stderr",
          "text": [
            " 90%|█████████ | 905/1000 [01:01<00:04, 23.46it/s]"
          ]
        },
        {
          "output_type": "stream",
          "name": "stdout",
          "text": [
            "Iteration 900, Avg Return: 0.74, Policy Loss: 0.0083, Value Loss: 0.0011\n"
          ]
        },
        {
          "output_type": "stream",
          "name": "stderr",
          "text": [
            "100%|██████████| 1000/1000 [01:06<00:00, 15.14it/s]\n"
          ]
        }
      ]
    },
    {
      "cell_type": "code",
      "source": [
        "# Plot training results\n",
        "plt.figure(figsize=(12, 5))\n",
        "\n",
        "plt.subplot(1, 2, 1)\n",
        "plt.plot(returns_history)\n",
        "plt.title('Average Return per Iteration')\n",
        "plt.xlabel('Iteration (x10)')\n",
        "plt.ylabel('Average Return')\n",
        "\n",
        "plt.subplot(1, 2, 2)\n",
        "policy_losses = [x[0] for x in loss_history]\n",
        "value_losses = [x[1] for x in loss_history]\n",
        "plt.plot(policy_losses, label='Policy Loss')\n",
        "plt.plot(value_losses, label='Value Loss')\n",
        "plt.title('Training Losses')\n",
        "plt.xlabel('Iteration (x10)')\n",
        "plt.ylabel('Loss')\n",
        "plt.legend()\n",
        "\n",
        "plt.tight_layout()\n",
        "plt.show()\n"
      ],
      "metadata": {
        "colab": {
          "base_uri": "https://localhost:8080/",
          "height": 397
        },
        "id": "FszwJz0v5TUS",
        "outputId": "33cfe60d-3d80-40a3-ef09-ca9cb36fe850"
      },
      "execution_count": 28,
      "outputs": [
        {
          "output_type": "display_data",
          "data": {
            "text/plain": [
              "<Figure size 1200x500 with 2 Axes>"
            ],
            "image/png": "[encoded data removed]"
          },
          "metadata": {}
        }
      ]
    },
    {
      "cell_type": "code",
      "source": [
        "# train for n epochs\n",
        "# epochs = 10\n",
        "# for epoch in range(epochs):\n",
        "#     print(f\"Epoch {epoch+1}/{epochs}\")\n",
        "#     returns_history, loss_history = train_grpo(\n",
        "#         env, policy_net, value_net, optimizer_policy, optimizer_value,\n",
        "#         num_iterations=10, batch_size=4, max_steps=20\n",
        "#     )\n",
        "#         # Plot training results\n",
        "#     plt.figure(figsize=(12, 5))\n",
        "\n",
        "#     plt.subplot(1, 2, 1)\n",
        "#     plt.plot(returns_history)\n",
        "#     plt.title('Average Return per Iteration')\n",
        "#     plt.xlabel('Iteration (x10)')\n",
        "#     plt.ylabel('Average Return')\n",
        "\n",
        "#     plt.subplot(1, 2, 2)\n",
        "#     policy_losses = [x[0] for x in loss_history]\n",
        "#     value_losses = [x[1] for x in loss_history]\n",
        "#     plt.plot(policy_losses, label='Policy Loss')\n",
        "#     plt.plot(value_losses, label='Value Loss')\n",
        "#     plt.title('Training Losses')\n",
        "#     plt.xlabel('Iteration (x10)')\n",
        "#     plt.ylabel('Loss')\n",
        "#     plt.legend()\n",
        "\n",
        "#     plt.tight_layout()\n",
        "#     plt.show()"
      ],
      "metadata": {
        "id": "ld_CXjQ86UJl"
      },
      "execution_count": 29,
      "outputs": []
    },
    {
      "cell_type": "code",
      "source": [
        " # Demonstrate trained agent\n",
        "print(\"\\nDemonstrating trained agent:\")\n",
        "state = env.reset()\n",
        "env.render()\n",
        "\n",
        "done = False\n",
        "step_count = 0\n",
        "total_reward = 0\n",
        "\n",
        "while not done and step_count < 20:\n",
        "    state_tensor = torch.FloatTensor(state).to(device)\n",
        "    action_probs = policy_net(state_tensor)\n",
        "    action = torch.argmax(action_probs).item()\n",
        "\n",
        "    action_names = [\"UP\", \"RIGHT\", \"DOWN\", \"LEFT\"]\n",
        "    print(f\"Step {step_count+1}: Agent chooses {action_names[action]}\")\n",
        "\n",
        "    next_state, reward, done = env.step(action)\n",
        "    total_reward += reward\n",
        "    state = next_state\n",
        "    env.render()\n",
        "    step_count += 1\n",
        "\n",
        "print(f\"Episode finished with total reward: {total_reward:.2f}\")\n",
        "if done:\n",
        "    print(\"Goal reached!\")\n",
        "else:\n",
        "    print(\"Maximum steps reached before finding goal.\")"
      ],
      "metadata": {
        "colab": {
          "base_uri": "https://localhost:8080/"
        },
        "id": "GtS9j7-Y5cVs",
        "outputId": "0cf5e830-441c-45ba-9bfb-c77dc5575498"
      },
      "execution_count": 35,
      "outputs": [
        {
          "output_type": "stream",
          "name": "stdout",
          "text": [
            "\n",
            "Demonstrating trained agent:\n",
            ". . . . .\n",
            ". . . A .\n",
            ". . . . .\n",
            ". . . G .\n",
            ". . . . .\n",
            "\n",
            "Step 1: Agent chooses DOWN\n",
            ". . . . .\n",
            ". . . . .\n",
            ". . . A .\n",
            ". . . G .\n",
            ". . . . .\n",
            "\n",
            "Step 2: Agent chooses DOWN\n",
            ". . . . .\n",
            ". . . . .\n",
            ". . . . .\n",
            ". . . X .\n",
            ". . . . .\n",
            "\n",
            "Episode finished with total reward: 0.90\n",
            "Goal reached!\n"
          ]
        }
      ]
    },
    {
      "cell_type": "code",
      "source": [],
      "metadata": {
        "id": "RvfUqT_o_61Z"
      },
      "execution_count": null,
      "outputs": []
    }
  ]
}