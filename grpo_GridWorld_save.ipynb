{
  "nbformat": 4,
  "nbformat_minor": 0,
  "metadata": {
    "colab": {
      "provenance": [],
      "gpuType": "T4"
    },
    "kernelspec": {
      "name": "python3",
      "display_name": "Python 3"
    },
    "language_info": {
      "name": "python"
    },
    "accelerator": "GPU"
  },
  "cells": [
    {
      "cell_type": "markdown",
      "source": [
        "# saving Maximum Reward model locally"
      ],
      "metadata": {
        "id": "pixyR8L8AavU"
      }
    },
    {
      "cell_type": "code",
      "execution_count": 1,
      "metadata": {
        "id": "b36cU8awAOz7"
      },
      "outputs": [],
      "source": [
        "import torch\n",
        "import torch.nn as nn\n",
        "import torch.optim as optim\n",
        "import numpy as np\n",
        "import random\n",
        "import matplotlib.pyplot as plt\n",
        "from tqdm import tqdm\n",
        "import os"
      ]
    },
    {
      "cell_type": "code",
      "source": [
        "\n",
        "# Check for GPU availability\n",
        "device = torch.device(\"cuda\" if torch.cuda.is_available() else \"cpu\")\n",
        "print(f\"Using device: {device}\")"
      ],
      "metadata": {
        "colab": {
          "base_uri": "https://localhost:8080/"
        },
        "id": "WOFA9K_RAZVO",
        "outputId": "b3dea8dc-8e38-42b5-df03-26cdaea0b402"
      },
      "execution_count": 2,
      "outputs": [
        {
          "output_type": "stream",
          "name": "stdout",
          "text": [
            "Using device: cuda\n"
          ]
        }
      ]
    },
    {
      "cell_type": "markdown",
      "source": [
        "# Define simple grid world environment"
      ],
      "metadata": {
        "id": "CbcsqFmaAuHr"
      }
    },
    {
      "cell_type": "code",
      "source": [
        "class GridWorldEnv:\n",
        "    def __init__(self, size=5):\n",
        "        self.size = size\n",
        "        self.reset()\n",
        "\n",
        "    def reset(self):\n",
        "        # Initialize agent position randomly\n",
        "        self.agent_pos = [random.randint(0, self.size-1), random.randint(0, self.size-1)]\n",
        "        # Set goal position randomly but ensure it's different from agent position\n",
        "        self.goal_pos = self.agent_pos.copy()\n",
        "        while self.goal_pos == self.agent_pos:\n",
        "            self.goal_pos = [random.randint(0, self.size-1), random.randint(0, self.size-1)]\n",
        "        return self._get_state()\n",
        "\n",
        "    def step(self, action):\n",
        "        # Actions: 0: up, 1: right, 2: down, 3: left\n",
        "        if action == 0 and self.agent_pos[0] > 0:  # Up\n",
        "            self.agent_pos[0] -= 1\n",
        "        elif action == 1 and self.agent_pos[1] < self.size - 1:  # Right\n",
        "            self.agent_pos[1] += 1\n",
        "        elif action == 2 and self.agent_pos[0] < self.size - 1:  # Down\n",
        "            self.agent_pos[0] += 1\n",
        "        elif action == 3 and self.agent_pos[1] > 0:  # Left\n",
        "            self.agent_pos[1] -= 1\n",
        "\n",
        "        # Check if goal is reached\n",
        "        done = (self.agent_pos == self.goal_pos)\n",
        "\n",
        "        # Calculate reward: -0.1 per step, +1 for reaching goal\n",
        "        reward = 1.0 if done else -0.1\n",
        "\n",
        "        return self._get_state(), reward, done\n",
        "\n",
        "    def _get_state(self):\n",
        "        # State is represented as [agent_x, agent_y, goal_x, goal_y]\n",
        "        return np.array([self.agent_pos[0], self.agent_pos[1],\n",
        "                         self.goal_pos[0], self.goal_pos[1]])\n",
        "\n",
        "    def render(self):\n",
        "        grid = np.zeros((self.size, self.size), dtype=str)\n",
        "        grid.fill('.')\n",
        "        grid[self.agent_pos[0], self.agent_pos[1]] = 'A'\n",
        "        grid[self.goal_pos[0], self.goal_pos[1]] = 'G'\n",
        "\n",
        "        # If agent and goal are in the same position\n",
        "        if self.agent_pos == self.goal_pos:\n",
        "            grid[self.agent_pos[0], self.agent_pos[1]] = 'X'\n",
        "\n",
        "        for row in grid:\n",
        "            print(' '.join(row))\n",
        "\n",
        "        print()\n"
      ],
      "metadata": {
        "id": "S__-NhNdApH9"
      },
      "execution_count": 3,
      "outputs": []
    },
    {
      "cell_type": "markdown",
      "source": [
        "# Define the policy network\n"
      ],
      "metadata": {
        "id": "-hkadyJVA3Z9"
      }
    },
    {
      "cell_type": "code",
      "source": [
        "class PolicyNetwork(nn.Module):\n",
        "    def __init__(self, input_size, hidden_size, output_size):\n",
        "        super(PolicyNetwork, self).__init__()\n",
        "        self.network = nn.Sequential(\n",
        "            nn.Linear(input_size, hidden_size),\n",
        "            nn.ReLU(),\n",
        "            nn.Linear(hidden_size, hidden_size),\n",
        "            nn.ReLU(),\n",
        "            nn.Linear(hidden_size, output_size),\n",
        "            nn.Softmax(dim=-1)\n",
        "        )\n",
        "\n",
        "    def forward(self, x):\n",
        "        return self.network(x)\n"
      ],
      "metadata": {
        "id": "nfhhF4qIAzBE"
      },
      "execution_count": 4,
      "outputs": []
    },
    {
      "cell_type": "code",
      "source": [
        "# Define the value network\n",
        "class ValueNetwork(nn.Module):\n",
        "    def __init__(self, input_size, hidden_size):\n",
        "        super(ValueNetwork, self).__init__()\n",
        "        self.network = nn.Sequential(\n",
        "            nn.Linear(input_size, hidden_size),\n",
        "            nn.ReLU(),\n",
        "            nn.Linear(hidden_size, hidden_size),\n",
        "            nn.ReLU(),\n",
        "            nn.Linear(hidden_size, 1)\n",
        "        )\n",
        "\n",
        "    def forward(self, x):\n",
        "        return self.network(x)\n"
      ],
      "metadata": {
        "id": "XJhJ8_4RA2LQ"
      },
      "execution_count": 5,
      "outputs": []
    },
    {
      "cell_type": "code",
      "source": [
        "# Function to generate trajectories\n",
        "def generate_trajectories(env, policy_net, num_episodes=10, max_steps=100):\n",
        "    trajectories = []\n",
        "\n",
        "    for _ in range(num_episodes):\n",
        "        states, actions, rewards, log_probs = [], [], [], []\n",
        "        state = env.reset()\n",
        "        done = False\n",
        "        step_count = 0\n",
        "\n",
        "        while not done and step_count < max_steps:\n",
        "            state_tensor = torch.FloatTensor(state).to(device)\n",
        "            action_probs = policy_net(state_tensor)\n",
        "\n",
        "            # Sample action from the distribution\n",
        "            action_distribution = torch.distributions.Categorical(action_probs)\n",
        "            action = action_distribution.sample()\n",
        "            log_prob = action_distribution.log_prob(action)\n",
        "\n",
        "            next_state, reward, done = env.step(action.item())\n",
        "\n",
        "            states.append(state)\n",
        "            actions.append(action.item())\n",
        "            rewards.append(reward)\n",
        "            log_probs.append(log_prob.item())\n",
        "\n",
        "            state = next_state\n",
        "            step_count += 1\n",
        "\n",
        "        # Calculate returns\n",
        "        returns = []\n",
        "        G = 0\n",
        "        for r in reversed(rewards):\n",
        "            G = r + 0.99 * G  # 0.99 is the discount factor\n",
        "            returns.insert(0, G)\n",
        "\n",
        "        trajectories.append({\n",
        "            'states': np.array(states),\n",
        "            'actions': np.array(actions),\n",
        "            'rewards': np.array(rewards),\n",
        "            'returns': np.array(returns),\n",
        "            'log_probs': np.array(log_probs)\n",
        "        })\n",
        "\n",
        "    return trajectories"
      ],
      "metadata": {
        "id": "8WFgglEWA77Y"
      },
      "execution_count": 6,
      "outputs": []
    },
    {
      "cell_type": "code",
      "source": [
        "# Function to generate reference and candidate trajectories for preference learning\n",
        "def generate_preference_pairs(env, policy_net, value_net, num_pairs=5, max_steps=100):\n",
        "    reference_trajectories = generate_trajectories(env, policy_net, num_episodes=num_pairs, max_steps=max_steps)\n",
        "    candidate_trajectories = generate_trajectories(env, policy_net, num_episodes=num_pairs, max_steps=max_steps)\n",
        "\n",
        "    pairs = []\n",
        "    for ref_traj, cand_traj in zip(reference_trajectories, candidate_trajectories):\n",
        "        # Use total return as a proxy for preference\n",
        "        ref_return = np.sum(ref_traj['rewards'])\n",
        "        cand_return = np.sum(cand_traj['rewards'])\n",
        "\n",
        "        # Determine which trajectory is preferred based on total return\n",
        "        if ref_return > cand_return:\n",
        "            preferred = ref_traj\n",
        "            non_preferred = cand_traj\n",
        "        else:\n",
        "            preferred = cand_traj\n",
        "            non_preferred = ref_traj\n",
        "\n",
        "        pairs.append((preferred, non_preferred))\n",
        "\n",
        "    return pairs\n"
      ],
      "metadata": {
        "id": "QbVsxKhpBAoT"
      },
      "execution_count": 7,
      "outputs": []
    },
    {
      "cell_type": "code",
      "source": [
        "# Function to evaluate agent performance\n",
        "def evaluate_agent(env, policy_net, num_episodes=5, max_steps=100):\n",
        "    eval_returns = []\n",
        "    for _ in range(num_episodes):\n",
        "        state = env.reset()\n",
        "        total_reward = 0\n",
        "        done = False\n",
        "        step_count = 0\n",
        "\n",
        "        while not done and step_count < max_steps:\n",
        "            state_tensor = torch.FloatTensor(state).to(device)\n",
        "            action_probs = policy_net(state_tensor)\n",
        "            action = torch.argmax(action_probs).item()\n",
        "\n",
        "            next_state, reward, done = env.step(action)\n",
        "            total_reward += reward\n",
        "            state = next_state\n",
        "            step_count += 1\n",
        "\n",
        "        eval_returns.append(total_reward)\n",
        "\n",
        "    return np.mean(eval_returns)\n"
      ],
      "metadata": {
        "id": "AQzW7TbqBDmA"
      },
      "execution_count": 8,
      "outputs": []
    },
    {
      "cell_type": "code",
      "source": [
        "\n",
        "# GRPO training function with best model saving\n",
        "def train_grpo(env, policy_net, value_net, optimizer_policy, optimizer_value,\n",
        "               num_iterations=100, batch_size=4, max_steps=100, save_dir='./models'):\n",
        "\n",
        "    # Create directory for saving models if it doesn't exist\n",
        "    if not os.path.exists(save_dir):\n",
        "        os.makedirs(save_dir)\n",
        "\n",
        "    returns_history = []\n",
        "    loss_history = []\n",
        "    best_return = float('-inf')\n",
        "    best_model_path = os.path.join(save_dir, 'best_policy_model.pth')\n",
        "\n",
        "    for iteration in tqdm(range(num_iterations)):\n",
        "        # Generate preference pairs\n",
        "        preference_pairs = generate_preference_pairs(env, policy_net, value_net,\n",
        "                                                    num_pairs=batch_size, max_steps=max_steps)\n",
        "\n",
        "        # Train on preference pairs\n",
        "        policy_loss = 0\n",
        "        value_loss = 0\n",
        "\n",
        "        for preferred, non_preferred in preference_pairs:\n",
        "            # Value loss\n",
        "            preferred_states = torch.FloatTensor(preferred['states']).to(device)\n",
        "            preferred_returns = torch.FloatTensor(preferred['returns']).unsqueeze(1).to(device)\n",
        "            predicted_values = value_net(preferred_states)\n",
        "            batch_value_loss = nn.MSELoss()(predicted_values, preferred_returns)\n",
        "            value_loss += batch_value_loss\n",
        "\n",
        "            # Policy loss - GRPO approach\n",
        "            # Calculate advantage using the value network\n",
        "            advantages = preferred_returns - predicted_values.detach()\n",
        "\n",
        "            # Get log probabilities of actions taken\n",
        "            preferred_actions = torch.LongTensor(preferred['actions']).to(device)\n",
        "            action_probs = policy_net(preferred_states)\n",
        "            dist = torch.distributions.Categorical(action_probs)\n",
        "            log_probs = dist.log_prob(preferred_actions)\n",
        "\n",
        "            # Calculate importance weights from old log probs\n",
        "            old_log_probs = torch.FloatTensor(preferred['log_probs']).to(device)\n",
        "            ratios = torch.exp(log_probs - old_log_probs)\n",
        "\n",
        "            # Clipped PPO loss\n",
        "            eps = 0.2  # PPO clipping parameter\n",
        "            clipped_ratios = torch.clamp(ratios, 1-eps, 1+eps)\n",
        "            batch_policy_loss = -torch.min(ratios * advantages, clipped_ratios * advantages).mean()\n",
        "            policy_loss += batch_policy_loss\n",
        "\n",
        "        # Average losses\n",
        "        policy_loss /= len(preference_pairs)\n",
        "        value_loss /= len(preference_pairs)\n",
        "\n",
        "        # Update policy network\n",
        "        optimizer_policy.zero_grad()\n",
        "        policy_loss.backward()\n",
        "        optimizer_policy.step()\n",
        "\n",
        "        # Update value network\n",
        "        optimizer_value.zero_grad()\n",
        "        value_loss.backward()\n",
        "        optimizer_value.step()\n",
        "\n",
        "        # Evaluate performance every 10 iterations\n",
        "        if iteration % 100 == 0:\n",
        "            avg_return = evaluate_agent(env, policy_net, num_episodes=5, max_steps=max_steps)\n",
        "            returns_history.append(avg_return)\n",
        "            loss_history.append((policy_loss.item(), value_loss.item()))\n",
        "\n",
        "            print(f\"Iteration {iteration}, Avg Return: {avg_return:.2f}, \" +\n",
        "                  f\"Policy Loss: {policy_loss.item():.4f}, Value Loss: {value_loss.item():.4f}\")\n",
        "\n",
        "            # Save the best model based on average return\n",
        "            if avg_return > best_return:\n",
        "                best_return = avg_return\n",
        "                torch.save({\n",
        "                    'policy_state_dict': policy_net.state_dict(),\n",
        "                    'value_state_dict': value_net.state_dict(),\n",
        "                    'iteration': iteration,\n",
        "                    'return': avg_return\n",
        "                }, best_model_path)\n",
        "                print(f\"New best model saved with average return: {avg_return:.2f}\")\n",
        "\n",
        "    print(f\"Training complete. Best model achieved average return: {best_return:.2f}\")\n",
        "    return returns_history, loss_history, best_model_path\n"
      ],
      "metadata": {
        "id": "_0OOasxlBJz4"
      },
      "execution_count": 13,
      "outputs": []
    },
    {
      "cell_type": "code",
      "source": [
        "env = GridWorldEnv(size=5)\n",
        "\n",
        "# State size: agent_x, agent_y, goal_x, goal_y\n",
        "state_size = 4\n",
        "hidden_size = 64\n",
        "action_size = 4  # up, right, down, left\n",
        "\n",
        "policy_net = PolicyNetwork(state_size, hidden_size, action_size).to(device)\n",
        "value_net = ValueNetwork(state_size, hidden_size).to(device)\n",
        "\n",
        "optimizer_policy = optim.Adam(policy_net.parameters(), lr=0.001)\n",
        "optimizer_value = optim.Adam(value_net.parameters(), lr=0.001)\n"
      ],
      "metadata": {
        "id": "nU_bmIlXBKIU"
      },
      "execution_count": 14,
      "outputs": []
    },
    {
      "cell_type": "code",
      "source": [
        "\n",
        "# Train the agent\n",
        "print(\"Starting GRPO training...\")\n",
        "returns_history, loss_history, best_model_path = train_grpo(\n",
        "    env, policy_net, value_net, optimizer_policy, optimizer_value,\n",
        "    num_iterations=1000, batch_size=4, max_steps=20, save_dir='./grpo_models'\n",
        ")\n"
      ],
      "metadata": {
        "colab": {
          "base_uri": "https://localhost:8080/"
        },
        "id": "Fj0OsQsEBT0L",
        "outputId": "4dd119c6-edd9-4169-e38c-bf02c509c5fa"
      },
      "execution_count": 15,
      "outputs": [
        {
          "output_type": "stream",
          "name": "stdout",
          "text": [
            "Starting GRPO training...\n"
          ]
        },
        {
          "output_type": "stream",
          "name": "stderr",
          "text": [
            "  0%|          | 1/1000 [00:00<02:55,  5.70it/s]"
          ]
        },
        {
          "output_type": "stream",
          "name": "stdout",
          "text": [
            "Iteration 0, Avg Return: -2.00, Policy Loss: 0.1185, Value Loss: 0.9976\n",
            "New best model saved with average return: -2.00\n"
          ]
        },
        {
          "output_type": "stream",
          "name": "stderr",
          "text": [
            " 10%|█         | 102/1000 [00:15<01:51,  8.03it/s]"
          ]
        },
        {
          "output_type": "stream",
          "name": "stdout",
          "text": [
            "Iteration 100, Avg Return: -1.40, Policy Loss: -0.3027, Value Loss: 0.2501\n",
            "New best model saved with average return: -1.40\n"
          ]
        },
        {
          "output_type": "stream",
          "name": "stderr",
          "text": [
            " 20%|██        | 203/1000 [00:26<01:13, 10.82it/s]"
          ]
        },
        {
          "output_type": "stream",
          "name": "stdout",
          "text": [
            "Iteration 200, Avg Return: -0.94, Policy Loss: -0.2112, Value Loss: 0.0676\n",
            "New best model saved with average return: -0.94\n"
          ]
        },
        {
          "output_type": "stream",
          "name": "stderr",
          "text": [
            " 30%|███       | 303/1000 [00:34<00:46, 15.06it/s]"
          ]
        },
        {
          "output_type": "stream",
          "name": "stdout",
          "text": [
            "Iteration 300, Avg Return: -0.36, Policy Loss: 0.0411, Value Loss: 0.0655\n",
            "New best model saved with average return: -0.36\n"
          ]
        },
        {
          "output_type": "stream",
          "name": "stderr",
          "text": [
            " 40%|████      | 404/1000 [00:41<00:33, 17.99it/s]"
          ]
        },
        {
          "output_type": "stream",
          "name": "stdout",
          "text": [
            "Iteration 400, Avg Return: 0.76, Policy Loss: 0.1076, Value Loss: 0.0447\n",
            "New best model saved with average return: 0.76\n"
          ]
        },
        {
          "output_type": "stream",
          "name": "stderr",
          "text": [
            " 50%|█████     | 505/1000 [00:47<00:24, 19.89it/s]"
          ]
        },
        {
          "output_type": "stream",
          "name": "stdout",
          "text": [
            "Iteration 500, Avg Return: 0.86, Policy Loss: -0.0218, Value Loss: 0.0061\n",
            "New best model saved with average return: 0.86\n"
          ]
        },
        {
          "output_type": "stream",
          "name": "stderr",
          "text": [
            " 60%|██████    | 605/1000 [00:52<00:18, 21.32it/s]"
          ]
        },
        {
          "output_type": "stream",
          "name": "stdout",
          "text": [
            "Iteration 600, Avg Return: 0.74, Policy Loss: 0.0188, Value Loss: 0.0058\n"
          ]
        },
        {
          "output_type": "stream",
          "name": "stderr",
          "text": [
            " 70%|███████   | 704/1000 [00:57<00:16, 17.67it/s]"
          ]
        },
        {
          "output_type": "stream",
          "name": "stdout",
          "text": [
            "Iteration 700, Avg Return: 0.74, Policy Loss: 0.0233, Value Loss: 0.0026\n"
          ]
        },
        {
          "output_type": "stream",
          "name": "stderr",
          "text": [
            " 80%|████████  | 805/1000 [01:01<00:08, 23.00it/s]"
          ]
        },
        {
          "output_type": "stream",
          "name": "stdout",
          "text": [
            "Iteration 800, Avg Return: 0.78, Policy Loss: -0.0425, Value Loss: 0.0092\n"
          ]
        },
        {
          "output_type": "stream",
          "name": "stderr",
          "text": [
            " 90%|█████████ | 904/1000 [01:06<00:04, 23.59it/s]"
          ]
        },
        {
          "output_type": "stream",
          "name": "stdout",
          "text": [
            "Iteration 900, Avg Return: 0.76, Policy Loss: 0.0045, Value Loss: 0.0012\n"
          ]
        },
        {
          "output_type": "stream",
          "name": "stderr",
          "text": [
            "100%|██████████| 1000/1000 [01:10<00:00, 14.12it/s]\n"
          ]
        },
        {
          "output_type": "stream",
          "name": "stdout",
          "text": [
            "Training complete. Best model achieved average return: 0.86\n"
          ]
        }
      ]
    },
    {
      "cell_type": "code",
      "source": [
        "\n",
        "# Plot training results\n",
        "plt.figure(figsize=(12, 5))\n",
        "\n",
        "plt.subplot(1, 2, 1)\n",
        "plt.plot(returns_history)\n",
        "plt.title('Average Return per Iteration')\n",
        "plt.xlabel('Iteration (x10)')\n",
        "plt.ylabel('Average Return')\n",
        "\n",
        "plt.subplot(1, 2, 2)\n",
        "policy_losses = [x[0] for x in loss_history]\n",
        "value_losses = [x[1] for x in loss_history]\n",
        "plt.plot(policy_losses, label='Policy Loss')\n",
        "plt.plot(value_losses, label='Value Loss')\n",
        "plt.title('Training Losses')\n",
        "plt.xlabel('Iteration (x10)')\n",
        "plt.ylabel('Loss')\n",
        "plt.legend()\n",
        "\n",
        "plt.tight_layout()\n",
        "plt.show()\n",
        "\n"
      ],
      "metadata": {
        "colab": {
          "base_uri": "https://localhost:8080/",
          "height": 507
        },
        "id": "HYmGb3IMBol2",
        "outputId": "a3f909b2-1e30-4657-cbbf-0db4f0c9a43b"
      },
      "execution_count": 16,
      "outputs": [
        {
          "output_type": "display_data",
          "data": {
            "text/plain": [
              "<Figure size 1200x500 with 2 Axes>"
            ],
            "image/png": "[encoded data removed]"
          },
          "metadata": {}
        }
      ]
    },
    {
      "cell_type": "code",
      "source": [
        "# Load the best model\n",
        "print(f\"\\nLoading best model from {best_model_path}\")\n",
        "try:\n",
        "    # First try loading with weights_only=True (default in PyTorch 2.6+)\n",
        "    checkpoint = torch.load(best_model_path)\n",
        "except Exception as e:\n",
        "    print(f\"First loading attempt failed, trying with weights_only=False: {str(e)}\")\n",
        "    # Try again with weights_only=False\n",
        "    checkpoint = torch.load(best_model_path, weights_only=False)\n",
        "\n",
        "policy_net.load_state_dict(checkpoint['policy_state_dict'])\n",
        "value_net.load_state_dict(checkpoint['value_state_dict'])\n",
        "print(f\"Loaded best model from iteration {checkpoint['iteration']} with average return: {checkpoint['return']:.2f}\")"
      ],
      "metadata": {
        "colab": {
          "base_uri": "https://localhost:8080/"
        },
        "id": "bEwcp3bMBw7t",
        "outputId": "edfe9d28-4a3a-4357-e60d-0bdd5b608242"
      },
      "execution_count": 18,
      "outputs": [
        {
          "output_type": "stream",
          "name": "stdout",
          "text": [
            "\n",
            "Loading best model from ./grpo_models/best_policy_model.pth\n",
            "First loading attempt failed, trying with weights_only=False: Weights only load failed. This file can still be loaded, to do so you have two options, \u001b[1mdo those steps only if you trust the source of the checkpoint\u001b[0m. \n",
            "\t(1) In PyTorch 2.6, we changed the default value of the `weights_only` argument in `torch.load` from `False` to `True`. Re-running `torch.load` with `weights_only` set to `False` will likely succeed, but it can result in arbitrary code execution. Do it only if you got the file from a trusted source.\n",
            "\t(2) Alternatively, to load with `weights_only=True` please check the recommended steps in the following error message.\n",
            "\tWeightsUnpickler error: Unsupported global: GLOBAL numpy._core.multiarray.scalar was not an allowed global by default. Please use `torch.serialization.add_safe_globals([scalar])` or the `torch.serialization.safe_globals([scalar])` context manager to allowlist this global if you trust this class/function.\n",
            "\n",
            "Check the documentation of torch.load to learn more about types accepted by default with weights_only https://pytorch.org/docs/stable/generated/torch.load.html.\n",
            "Loaded best model from iteration 500 with average return: 0.86\n"
          ]
        }
      ]
    },
    {
      "cell_type": "code",
      "source": [
        "\n",
        "# Demonstrate best trained agent untill it achieves max set reward(0.9)\n",
        "while total_reward <=0.9:\n",
        "  print(\"\\nDemonstrating best trained agent:\")\n",
        "  state = env.reset()\n",
        "  env.render()\n",
        "\n",
        "  done = False\n",
        "  step_count = 0\n",
        "  total_reward = 0\n",
        "\n",
        "  while not done and step_count < 20:\n",
        "      state_tensor = torch.FloatTensor(state).to(device)\n",
        "      action_probs = policy_net(state_tensor)\n",
        "      action = torch.argmax(action_probs).item()\n",
        "\n",
        "      action_names = [\"UP\", \"RIGHT\", \"DOWN\", \"LEFT\"]\n",
        "      print(f\"Step {step_count+1}: Agent chooses {action_names[action]}\")\n",
        "\n",
        "      next_state, reward, done = env.step(action)\n",
        "      total_reward += reward\n",
        "      state = next_state\n",
        "      env.render()\n",
        "      step_count += 1\n",
        "\n",
        "  print(f\"Episode finished with total reward: {total_reward:.2f}\")\n",
        "  if done:\n",
        "      print(\"Goal reached!\")\n",
        "  else:\n",
        "      print(\"Maximum steps reached before finding goal.\")\n"
      ],
      "metadata": {
        "colab": {
          "base_uri": "https://localhost:8080/"
        },
        "id": "LJIdUB0YBzmz",
        "outputId": "ff4445c6-f339-494b-8e7f-037984f82033"
      },
      "execution_count": 36,
      "outputs": [
        {
          "output_type": "stream",
          "name": "stdout",
          "text": [
            "\n",
            "Demonstrating best trained agent:\n",
            "G . . . .\n",
            ". A . . .\n",
            ". . . . .\n",
            ". . . . .\n",
            ". . . . .\n",
            "\n",
            "Step 1: Agent chooses UP\n",
            "G A . . .\n",
            ". . . . .\n",
            ". . . . .\n",
            ". . . . .\n",
            ". . . . .\n",
            "\n",
            "Step 2: Agent chooses LEFT\n",
            "X . . . .\n",
            ". . . . .\n",
            ". . . . .\n",
            ". . . . .\n",
            ". . . . .\n",
            "\n",
            "Episode finished with total reward: 0.90\n",
            "Goal reached!\n",
            "\n",
            "Demonstrating best trained agent:\n",
            ". . . . .\n",
            ". G . . .\n",
            ". . . . .\n",
            ". . . . .\n",
            ". . A . .\n",
            "\n",
            "Step 1: Agent chooses UP\n",
            ". . . . .\n",
            ". G . . .\n",
            ". . . . .\n",
            ". . A . .\n",
            ". . . . .\n",
            "\n",
            "Step 2: Agent chooses UP\n",
            ". . . . .\n",
            ". G . . .\n",
            ". . A . .\n",
            ". . . . .\n",
            ". . . . .\n",
            "\n",
            "Step 3: Agent chooses LEFT\n",
            ". . . . .\n",
            ". G . . .\n",
            ". A . . .\n",
            ". . . . .\n",
            ". . . . .\n",
            "\n",
            "Step 4: Agent chooses UP\n",
            ". . . . .\n",
            ". X . . .\n",
            ". . . . .\n",
            ". . . . .\n",
            ". . . . .\n",
            "\n",
            "Episode finished with total reward: 0.70\n",
            "Goal reached!\n",
            "\n",
            "Demonstrating best trained agent:\n",
            ". . . . .\n",
            ". . . . .\n",
            "A . G . .\n",
            ". . . . .\n",
            ". . . . .\n",
            "\n",
            "Step 1: Agent chooses RIGHT\n",
            ". . . . .\n",
            ". . . . .\n",
            ". A G . .\n",
            ". . . . .\n",
            ". . . . .\n",
            "\n",
            "Step 2: Agent chooses RIGHT\n",
            ". . . . .\n",
            ". . . . .\n",
            ". . X . .\n",
            ". . . . .\n",
            ". . . . .\n",
            "\n",
            "Episode finished with total reward: 0.90\n",
            "Goal reached!\n",
            "\n",
            "Demonstrating best trained agent:\n",
            ". . . . .\n",
            ". . . . .\n",
            ". . . . A\n",
            ". . . . G\n",
            ". . . . .\n",
            "\n",
            "Step 1: Agent chooses DOWN\n",
            ". . . . .\n",
            ". . . . .\n",
            ". . . . .\n",
            ". . . . X\n",
            ". . . . .\n",
            "\n",
            "Episode finished with total reward: 1.00\n",
            "Goal reached!\n"
          ]
        }
      ]
    },
    {
      "cell_type": "code",
      "source": [],
      "metadata": {
        "id": "Y0WZUYW2ETK8"
      },
      "execution_count": null,
      "outputs": []
    }
  ]
}